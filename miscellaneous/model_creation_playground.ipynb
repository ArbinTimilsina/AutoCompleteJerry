{
 "cells": [
  {
   "cell_type": "markdown",
   "metadata": {},
   "source": [
    "# Model creation playground"
   ]
  },
  {
   "cell_type": "markdown",
   "metadata": {},
   "source": [
    "## Explore the input file"
   ]
  },
  {
   "cell_type": "code",
   "execution_count": 1,
   "metadata": {},
   "outputs": [
    {
     "name": "stdout",
     "output_type": "stream",
     "text": [
      "There are 169659 words by Jerry in the all Seinfeld episodes!\n",
      "\n",
      "Few words by Jerry:\n",
      "['do', 'you', 'know', 'what', 'this', 'is', 'all', 'about', 'eos', 'do', 'you', 'know', 'why', 'were', 'here', 'eos', 'to', 'be', 'out', 'this', 'is', 'out', 'and', 'out', 'is', 'one', 'of', 'the', 'single', 'most', 'enjoyable', 'experiences', 'of', 'life', 'eos', 'people', 'did', 'you', 'ever', 'hear', 'people', 'talking', 'about', 'we', 'should', 'go', 'out', 'eos', 'this', 'is']\n"
     ]
    }
   ],
   "source": [
    "import numpy as np\n",
    "from os import path\n",
    "import string\n",
    "import csv\n",
    "from nltk.tokenize import word_tokenize\n",
    "import re\n",
    "\n",
    "import matplotlib.pyplot as plt\n",
    "%matplotlib inline \n",
    "\n",
    "# We will just use dialogue by Jerry\n",
    "input_file_path = path.join(\"..\", \"input_files\", \"complete_seinfeld_scripts.csv\")\n",
    "\n",
    "EOS = \"eos\"\n",
    "words_by_jerry = []\n",
    "with open(input_file_path) as input_file:\n",
    "    input_data = csv.DictReader(input_file)\n",
    "    for row in input_data:\n",
    "        if(row['Character'] == 'JERRY'):\n",
    "            for words in row['Dialogue'].split():\n",
    "                for word in word_tokenize(words):\n",
    "                    word = word.replace(\"...\", \"\")\n",
    "                    word = word.replace(\".\", EOS)\n",
    "                    word = word.replace(\"?\", EOS)\n",
    "                    word = word.replace(\"!\", EOS)\n",
    "                    if word.isalpha():\n",
    "                        words_by_jerry.append(word.lower())\n",
    "print(\"There are {} words by Jerry in the all Seinfeld episodes!\\n\".format(len(words_by_jerry)))\n",
    "print(\"Few words by Jerry:\")\n",
    "print(words_by_jerry[:50])"
   ]
  },
  {
   "cell_type": "code",
   "execution_count": 2,
   "metadata": {},
   "outputs": [
    {
     "name": "stdout",
     "output_type": "stream",
     "text": [
      "20 most common words by jerry are:\n",
      "[('eos', 23097), ('you', 6212), ('i', 6204), ('the', 5097), ('a', 3435), ('to', 3407), ('it', 3127), ('that', 2298), ('what', 2188), ('do', 1967), ('and', 1576), ('of', 1574), ('is', 1536), ('in', 1500), ('he', 1318), ('this', 1268), ('know', 1240), ('no', 1165), ('on', 1162), ('me', 1087)]\n",
      "20 least common words by jerry are:\n",
      "[('flinching', 1), ('theoseosthat', 1), ('fornicator', 1), ('mohair', 1), ('verge', 1), ('kom', 1), ('repack', 1), ('problemseoseos', 1), ('unhealthy', 1), ('dumped', 1), ('slough', 1), ('immature', 1), ('dente', 1), ('reston', 1), ('schnapps', 1), ('perks', 1), ('lampshades', 1), ('henry', 1), ('site', 1), ('welcoming', 1)]\n"
     ]
    }
   ],
   "source": [
    "import collections\n",
    "n_most_common = 20\n",
    "counter = collections.Counter(words_by_jerry)\n",
    "print(\"{} most common words by jerry are:\\n{}\".format(n_most_common, counter.most_common(n_most_common)))\n",
    "print(\"{} least common words by jerry are:\\n{}\".format(n_most_common, counter.most_common()[:-n_most_common-1:-1]))"
   ]
  },
  {
   "cell_type": "code",
   "execution_count": 3,
   "metadata": {},
   "outputs": [
    {
     "name": "stderr",
     "output_type": "stream",
     "text": [
      "Using TensorFlow backend.\n"
     ]
    },
    {
     "name": "stdout",
     "output_type": "stream",
     "text": [
      "Vocabulary size is: 9254.\n"
     ]
    }
   ],
   "source": [
    "from keras.preprocessing.text import Tokenizer\n",
    "\n",
    "# Create a tokenizer\n",
    "tokenizer = Tokenizer()\n",
    "\n",
    "# And build the word index\n",
    "tokenizer.fit_on_texts(words_by_jerry)\n",
    "\n",
    "# This is how we can recover the word index that was computed\n",
    "word_index = tokenizer.word_index\n",
    "\n",
    "# Vocabulary size\n",
    "vocabulary_size = len(word_index) + 1\n",
    "print(\"Vocabulary size is: {}.\".format(vocabulary_size))"
   ]
  },
  {
   "cell_type": "code",
   "execution_count": 4,
   "metadata": {},
   "outputs": [
    {
     "name": "stdout",
     "output_type": "stream",
     "text": [
      "Squences size is: 169659.\n"
     ]
    }
   ],
   "source": [
    "# This turns strings into lists of integer indices.\n",
    "text_sequences = tokenizer.texts_to_sequences(words_by_jerry)\n",
    "\n",
    "sequences = []\n",
    "for sequence in text_sequences:\n",
    "    for seq in sequence:\n",
    "        sequences.append(seq)\n",
    "print(\"Squences size is: {}.\".format(len(sequences)))"
   ]
  },
  {
   "cell_type": "markdown",
   "metadata": {},
   "source": [
    "## Vectorizing prefix and target"
   ]
  },
  {
   "cell_type": "code",
   "execution_count": 5,
   "metadata": {},
   "outputs": [
    {
     "name": "stdout",
     "output_type": "stream",
     "text": [
      "There are 169652 prefixes and 169652 targets, respectively.\n"
     ]
    }
   ],
   "source": [
    "# Get sequence of max_len words\n",
    "max_len = 7\n",
    "\n",
    "# Lists to hold the prefixes and targets\n",
    "prefix_sequences = []\n",
    "target_character = []\n",
    "for i in range (len(sequences) - max_len):\n",
    "    prefix_sequences.append(sequences[i: i + max_len])\n",
    "    target_character.append(sequences[i + max_len])\n",
    "print(\"There are {} prefixes and {} targets, respectively.\".format(len(prefix_sequences), \n",
    "                                                                   len(target_character)))"
   ]
  },
  {
   "cell_type": "code",
   "execution_count": 6,
   "metadata": {},
   "outputs": [
    {
     "name": "stdout",
     "output_type": "stream",
     "text": [
      "(169652, 7)\n",
      "(169652, 9254)\n"
     ]
    }
   ],
   "source": [
    "from keras.utils import to_categorical\n",
    "\n",
    "X = np.array(prefix_sequences)\n",
    "\n",
    "# normalize\n",
    "X = X / float(vocabulary_size)\n",
    "\n",
    "y = to_categorical(target_character, num_classes=vocabulary_size)\n",
    "print(X.shape)\n",
    "print(y.shape)"
   ]
  },
  {
   "cell_type": "code",
   "execution_count": 7,
   "metadata": {},
   "outputs": [
    {
     "name": "stdout",
     "output_type": "stream",
     "text": [
      "Found 400000 word vectors.\n"
     ]
    }
   ],
   "source": [
    "# Options are 50, 100, 200, 300\n",
    "embedding_dim = 200\n",
    "\n",
    "glove_dir = 'glove.6B'\n",
    "\n",
    "embeddings_index = {}\n",
    "f = open(path.join(\"..\", glove_dir, 'glove.6B.{}d.txt'.format(embedding_dim)))\n",
    "for line in f:\n",
    "    values = line.split()\n",
    "    word = values[0]\n",
    "    coefs = np.asarray(values[1:], dtype='float32')\n",
    "    embeddings_index[word] = coefs\n",
    "f.close()\n",
    "\n",
    "print('Found %s word vectors.' % len(embeddings_index))"
   ]
  },
  {
   "cell_type": "code",
   "execution_count": 8,
   "metadata": {},
   "outputs": [],
   "source": [
    "embedding_matrix = np.zeros((vocabulary_size, embedding_dim))\n",
    "for word, i in word_index.items():\n",
    "    embedding_vector = embeddings_index.get(word)\n",
    "    if i < vocabulary_size:\n",
    "        if embedding_vector is not None:\n",
    "            # Words not found in embedding index will be all-zeros.\n",
    "            embedding_matrix[i] = embedding_vector"
   ]
  },
  {
   "cell_type": "markdown",
   "metadata": {},
   "source": [
    "## Split data into training and validation sets (80/20)"
   ]
  },
  {
   "cell_type": "code",
   "execution_count": 9,
   "metadata": {},
   "outputs": [
    {
     "name": "stdout",
     "output_type": "stream",
     "text": [
      "The training set has 135721 samples.\n",
      "The validation set has 33931 samples.\n"
     ]
    }
   ],
   "source": [
    "from sklearn.model_selection import train_test_split\n",
    "\n",
    "X_train, X_val, y_train, y_val = train_test_split(X, y, test_size=0.20, random_state=99)\n",
    "\n",
    "print(\"The training set has %d samples.\" % len(X_train))\n",
    "print(\"The validation set has %d samples.\" % len(X_val))"
   ]
  },
  {
   "cell_type": "markdown",
   "metadata": {},
   "source": [
    "## Building the model"
   ]
  },
  {
   "cell_type": "code",
   "execution_count": 10,
   "metadata": {},
   "outputs": [
    {
     "name": "stdout",
     "output_type": "stream",
     "text": [
      "_________________________________________________________________\n",
      "Layer (type)                 Output Shape              Param #   \n",
      "=================================================================\n",
      "embedding_1 (Embedding)      (None, 7, 200)            1850800   \n",
      "_________________________________________________________________\n",
      "lstm_1 (LSTM)                (None, 7, 200)            320800    \n",
      "_________________________________________________________________\n",
      "lstm_2 (LSTM)                (None, 200)               320800    \n",
      "_________________________________________________________________\n",
      "dense_1 (Dense)              (None, 200)               40200     \n",
      "_________________________________________________________________\n",
      "dropout_1 (Dropout)          (None, 200)               0         \n",
      "_________________________________________________________________\n",
      "dense_2 (Dense)              (None, 9254)              1860054   \n",
      "=================================================================\n",
      "Total params: 4,392,654\n",
      "Trainable params: 4,392,654\n",
      "Non-trainable params: 0\n",
      "_________________________________________________________________\n"
     ]
    }
   ],
   "source": [
    "import keras\n",
    "from keras import layers\n",
    "from keras.layers import Dense\n",
    "from keras.layers import LSTM\n",
    "from keras.layers import Embedding\n",
    "from keras.layers import Dropout\n",
    "\n",
    "model = keras.models.Sequential()\n",
    "\n",
    "model.add(Embedding(vocabulary_size, embedding_dim, input_length=max_len))\n",
    "model.add(LSTM(embedding_dim, dropout=0.25, recurrent_dropout=0.25, return_sequences=True))\n",
    "model.add(LSTM(embedding_dim, dropout=0.25, recurrent_dropout=0.25))\n",
    "model.add(Dense(embedding_dim, activation='relu'))\n",
    "model.add(Dropout(0.25))\n",
    "\n",
    "model.add(Dense(vocabulary_size, activation='softmax'))\n",
    "\n",
    "model.summary()"
   ]
  },
  {
   "cell_type": "code",
   "execution_count": 11,
   "metadata": {},
   "outputs": [
    {
     "name": "stdout",
     "output_type": "stream",
     "text": [
      "_________________________________________________________________\n",
      "Layer (type)                 Output Shape              Param #   \n",
      "=================================================================\n",
      "embedding_1 (Embedding)      (None, 7, 200)            1850800   \n",
      "_________________________________________________________________\n",
      "lstm_1 (LSTM)                (None, 7, 200)            320800    \n",
      "_________________________________________________________________\n",
      "lstm_2 (LSTM)                (None, 200)               320800    \n",
      "_________________________________________________________________\n",
      "dense_1 (Dense)              (None, 200)               40200     \n",
      "_________________________________________________________________\n",
      "dropout_1 (Dropout)          (None, 200)               0         \n",
      "_________________________________________________________________\n",
      "dense_2 (Dense)              (None, 9254)              1860054   \n",
      "=================================================================\n",
      "Total params: 4,392,654\n",
      "Trainable params: 2,541,854\n",
      "Non-trainable params: 1,850,800\n",
      "_________________________________________________________________\n"
     ]
    }
   ],
   "source": [
    "model.layers[0].set_weights([embedding_matrix])\n",
    "model.layers[0].trainable = False\n",
    "model.summary()"
   ]
  },
  {
   "cell_type": "markdown",
   "metadata": {},
   "source": [
    "## Compile the code"
   ]
  },
  {
   "cell_type": "code",
   "execution_count": 12,
   "metadata": {},
   "outputs": [],
   "source": [
    "model.compile(loss='categorical_crossentropy', optimizer=keras.optimizers.Adam(lr=1E-3))"
   ]
  },
  {
   "cell_type": "code",
   "execution_count": 13,
   "metadata": {},
   "outputs": [
    {
     "name": "stdout",
     "output_type": "stream",
     "text": [
      "Train on 135721 samples, validate on 33931 samples\n",
      "Epoch 1/20\n",
      "135721/135721 [==============================] - 138s 1ms/step - loss: 8.6073 - val_loss: 8.1701\n",
      "\n",
      "Epoch 00001: val_loss improved from inf to 8.17007, saving model to ../saved_models/model_weights.hdf5\n",
      "Epoch 2/20\n",
      "135721/135721 [==============================] - 136s 1ms/step - loss: 7.7829 - val_loss: 7.4590\n",
      "\n",
      "Epoch 00002: val_loss improved from 8.17007 to 7.45900, saving model to ../saved_models/model_weights.hdf5\n",
      "Epoch 3/20\n",
      "135721/135721 [==============================] - 137s 1ms/step - loss: 7.1197 - val_loss: 6.8758\n",
      "\n",
      "Epoch 00003: val_loss improved from 7.45900 to 6.87582, saving model to ../saved_models/model_weights.hdf5\n",
      "Epoch 4/20\n",
      "135721/135721 [==============================] - 136s 1000us/step - loss: 6.5980 - val_loss: 6.4431\n",
      "\n",
      "Epoch 00004: val_loss improved from 6.87582 to 6.44310, saving model to ../saved_models/model_weights.hdf5\n",
      "Epoch 5/20\n",
      "135721/135721 [==============================] - 137s 1ms/step - loss: 6.2345 - val_loss: 6.1680\n",
      "\n",
      "Epoch 00005: val_loss improved from 6.44310 to 6.16800, saving model to ../saved_models/model_weights.hdf5\n",
      "Epoch 6/20\n",
      "135721/135721 [==============================] - 136s 1ms/step - loss: 6.0189 - val_loss: 6.0242\n",
      "\n",
      "Epoch 00006: val_loss improved from 6.16800 to 6.02423, saving model to ../saved_models/model_weights.hdf5\n",
      "Epoch 7/20\n",
      "135721/135721 [==============================] - 137s 1ms/step - loss: 5.9127 - val_loss: 5.9663\n",
      "\n",
      "Epoch 00007: val_loss improved from 6.02423 to 5.96629, saving model to ../saved_models/model_weights.hdf5\n",
      "Epoch 8/20\n",
      "135721/135721 [==============================] - 143s 1ms/step - loss: 5.8673 - val_loss: 5.9475\n",
      "\n",
      "Epoch 00008: val_loss improved from 5.96629 to 5.94747, saving model to ../saved_models/model_weights.hdf5\n",
      "Epoch 9/20\n",
      "135721/135721 [==============================] - 138s 1ms/step - loss: 5.8455 - val_loss: 5.9423\n",
      "\n",
      "Epoch 00009: val_loss improved from 5.94747 to 5.94229, saving model to ../saved_models/model_weights.hdf5\n",
      "Epoch 10/20\n",
      "135721/135721 [==============================] - 141s 1ms/step - loss: 5.8323 - val_loss: 5.9432\n",
      "\n",
      "Epoch 00010: val_loss did not improve from 5.94229\n",
      "Epoch 11/20\n",
      "135721/135721 [==============================] - 138s 1ms/step - loss: 5.8235 - val_loss: 5.9476\n",
      "\n",
      "Epoch 00011: val_loss did not improve from 5.94229\n",
      "Epoch 12/20\n",
      "135721/135721 [==============================] - 139s 1ms/step - loss: 5.8173 - val_loss: 5.9542\n",
      "\n",
      "Epoch 00012: val_loss did not improve from 5.94229\n",
      "\n",
      "Epoch 00012: ReduceLROnPlateau reducing learning rate to 0.0003000000142492354.\n",
      "Epoch 13/20\n",
      "135721/135721 [==============================] - 139s 1ms/step - loss: 5.8128 - val_loss: 5.9570\n",
      "\n",
      "Epoch 00013: val_loss did not improve from 5.94229\n",
      "Epoch 14/20\n",
      "135721/135721 [==============================] - 139s 1ms/step - loss: 5.8116 - val_loss: 5.9606\n",
      "\n",
      "Epoch 00014: val_loss did not improve from 5.94229\n",
      "Epoch 15/20\n",
      "135721/135721 [==============================] - 138s 1ms/step - loss: 5.8105 - val_loss: 5.9647\n",
      "\n",
      "Epoch 00015: val_loss did not improve from 5.94229\n",
      "Epoch 16/20\n",
      "135721/135721 [==============================] - 136s 1ms/step - loss: 5.8094 - val_loss: 5.9690\n",
      "\n",
      "Epoch 00016: val_loss did not improve from 5.94229\n",
      "Epoch 17/20\n",
      "135721/135721 [==============================] - 134s 990us/step - loss: 5.8085 - val_loss: 5.9732\n",
      "\n",
      "Epoch 00017: val_loss did not improve from 5.94229\n",
      "\n",
      "Epoch 00017: ReduceLROnPlateau reducing learning rate to 9.000000427477062e-05.\n",
      "Epoch 18/20\n",
      "135721/135721 [==============================] - 140s 1ms/step - loss: 5.8075 - val_loss: 5.9745\n",
      "\n",
      "Epoch 00018: val_loss did not improve from 5.94229\n",
      "Epoch 19/20\n",
      "135721/135721 [==============================] - 137s 1ms/step - loss: 5.8072 - val_loss: 5.9759\n",
      "\n",
      "Epoch 00019: val_loss did not improve from 5.94229\n",
      "Epoch 20/20\n",
      "135721/135721 [==============================] - 138s 1ms/step - loss: 5.8070 - val_loss: 5.9772\n",
      "\n",
      "Epoch 00020: val_loss did not improve from 5.94229\n"
     ]
    },
    {
     "data": {
      "image/png": "[encoded data removed]",
      "text/plain": [
       "<Figure size 432x288 with 1 Axes>"
      ]
     },
     "metadata": {
      "needs_background": "light"
     },
     "output_type": "display_data"
    }
   ],
   "source": [
    "from keras.callbacks import EarlyStopping, ReduceLROnPlateau, ModelCheckpoint\n",
    "\n",
    "epochs = 20\n",
    "batch_size = 128\n",
    "\n",
    "# Stop training when a monitored quantity has stopped improving after 20 epochs\n",
    "early_stop = EarlyStopping(patience=20, verbose=1)\n",
    "\n",
    "# Reduce learning rate when a metric has stopped improving\n",
    "reduce_lr = ReduceLROnPlateau(factor=0.3, patience=3, cooldown=3, verbose=1)\n",
    "\n",
    "# Save the best model after every epoch\n",
    "check_point = ModelCheckpoint(filepath='../saved_models/model_weights.hdf5', \n",
    "                               verbose=1, save_best_only=True)\n",
    "history = model.fit(X_train, y_train, batch_size=batch_size, epochs=epochs, verbose=1,\n",
    "                             validation_data=(X_val, y_val), \n",
    "                             callbacks=[check_point, early_stop, reduce_lr])\n",
    "\n",
    "# Summarize history for loss\n",
    "plt.plot(history.history['loss'])\n",
    "plt.plot(history.history['val_loss'])\n",
    "plt.title('Model loss')\n",
    "plt.ylabel('Loss')\n",
    "plt.xlabel('Epoch')\n",
    "plt.legend(['Training', 'Validation'], loc='upper left')\n",
    "plt.savefig('../plots/model_loss.pdf', bbox_inches='tight')\n",
    "plt.show()"
   ]
  },
  {
   "cell_type": "markdown",
   "metadata": {},
   "source": [
    "## Test the real time auto-complete"
   ]
  },
  {
   "cell_type": "code",
   "execution_count": 16,
   "metadata": {},
   "outputs": [],
   "source": [
    "def sample(preds, temperature=1.0):\n",
    "    preds = np.asarray(preds).astype('float64')\n",
    "    preds = np.log(preds) / temperature\n",
    "    exp_preds = np.exp(preds)\n",
    "    preds = exp_preds / np.sum(exp_preds)\n",
    "    probas = np.random.multinomial(1, preds, 1)\n",
    "    return np.argmax(probas)"
   ]
  },
  {
   "cell_type": "code",
   "execution_count": 42,
   "metadata": {},
   "outputs": [
    {
     "name": "stdout",
     "output_type": "stream",
     "text": [
      "Test text: Do you know what\n",
      "Do you know what not what in who ran i what purification spent you worst brings woman my damn blender tonight better i gums just fishing do have you rolodex youve mate the bad im yes up there you versa and you i someone out incinerator one smuckers no thought danny eos he the\n"
     ]
    }
   ],
   "source": [
    "from keras.preprocessing.sequence import pad_sequences\n",
    "\n",
    "test_text = \"Do you know what\"\n",
    "\n",
    "print('Test text:', test_text)\n",
    "temperature = 1.2\n",
    "\n",
    "outputs = [test_text]\n",
    "for _ in range(50):\n",
    "    clean_text = []\n",
    "    for word in word_tokenize(test_text):\n",
    "        if word.isalpha():\n",
    "            clean_text.append(word)\n",
    "    text_sequences = tokenizer.texts_to_sequences(clean_text)\n",
    "    sequences = []\n",
    "    for sequence in text_sequences:\n",
    "        for seq in sequence:\n",
    "            sequences.append(seq)\n",
    "    \n",
    "    # Truncate sequences to a fixed length\n",
    "    test_text_encoded = pad_sequences([sequences], maxlen=max_len, truncating='pre')\n",
    "    preds = model.predict(test_text_encoded, verbose=0)[0]\n",
    "    yhat = sample(preds, temperature)\n",
    "        \n",
    "    # map predicted word index to word\n",
    "    out_word = ''\n",
    "    for word, index in word_index.items():\n",
    "        if index == yhat:\n",
    "            out_word = word\n",
    "            break\n",
    "            \n",
    "    #if out_word == EOS:\n",
    "        #break\n",
    "        \n",
    "    outputs.append(out_word)\n",
    "    test_text += \" \" + out_word\n",
    "            \n",
    "print(\" \".join(outputs))"
   ]
  },
  {
   "cell_type": "code",
   "execution_count": null,
   "metadata": {},
   "outputs": [],
   "source": []
  }
 ],
 "metadata": {
  "kernelspec": {
   "display_name": "envAutoCompleteJerry",
   "language": "python",
   "name": "envautocompletejerry"
  },
  "language_info": {
   "codemirror_mode": {
    "name": "ipython",
    "version": 3
   },
   "file_extension": ".py",
   "mimetype": "text/x-python",
   "name": "python",
   "nbconvert_exporter": "python",
   "pygments_lexer": "ipython3",
   "version": "3.6.8"
  }
 },
 "nbformat": 4,
 "nbformat_minor": 2
}
